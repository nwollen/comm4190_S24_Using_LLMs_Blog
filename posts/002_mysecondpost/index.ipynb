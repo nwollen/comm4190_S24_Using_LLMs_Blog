{
 "cells": [
  {
   "cell_type": "raw",
   "id": "fff36832-1526-494d-9f61-8cf4c913aacc",
   "metadata": {},
   "source": [
    "---\n",
    "title: \"My Nail Salon\"\n",
    "description: \"Here is some information on my dream nail salon company- Nail Verde\"\n",
    "author: \"Norabug\"\n",
    "date: \"2/2/2024\"\n",
    "categories:\n",
    "  - employees\n",
    "  - storefront\n",
    "  - aesthetic\n",
    "---"
   ]
  },
  {
   "cell_type": "markdown",
   "id": "e8fb4fd1-da3b-42f5-ae77-b3e307bd3ecb",
   "metadata": {},
   "source": [
    "## These pictures are a rough idea of what I would want the aesthetic of my nail salon, Nail Verde, to be. "
   ]
  },
  {
   "cell_type": "markdown",
   "id": "586e529d-deec-47fa-8b80-63bbfd798026",
   "metadata": {},
   "source": [
    "![](nails.png)"
   ]
  },
  {
   "cell_type": "markdown",
   "id": "5a0288c8-f6bb-43ca-856e-9ee04b5c0f7d",
   "metadata": {},
   "source": [
    "![](storefront.png)"
   ]
  },
  {
   "cell_type": "markdown",
   "id": "b312f856-f058-4dcb-9183-052b5cdee857",
   "metadata": {},
   "source": [
    "![](verde.png)"
   ]
  },
  {
   "cell_type": "markdown",
   "id": "0e2e0d4d-9107-43a3-a4df-43a1b47bab12",
   "metadata": {},
   "source": [
    "## Pictured is the name, tables, employees, and customers. There is an emphasis on nature and green to give the illusion of being in nature while getting your nails done. A calming experience. "
   ]
  },
  {
   "cell_type": "code",
   "execution_count": null,
   "id": "5143eacc-9fd5-4528-abee-3a96bb985bc4",
   "metadata": {},
   "outputs": [],
   "source": []
  }
 ],
 "metadata": {
  "citation-manager": {
   "items": {}
  },
  "kernelspec": {
   "display_name": "Python 3.11 (COMM4190)",
   "language": "python",
   "name": "comm4190"
  },
  "language_info": {
   "codemirror_mode": {
    "name": "ipython",
    "version": 3
   },
   "file_extension": ".py",
   "mimetype": "text/x-python",
   "name": "python",
   "nbconvert_exporter": "python",
   "pygments_lexer": "ipython3",
   "version": "3.11.7"
  }
 },
 "nbformat": 4,
 "nbformat_minor": 5
}
