{
 "cells": [
  {
   "cell_type": "raw",
   "id": "fff36832-1526-494d-9f61-8cf4c913aacc",
   "metadata": {},
   "source": [
    "---\n",
    "title: \"My Nail Salon\"\n",
    "description: \"Here is some information on my dream nail salon company- Nail Verde\"\n",
    "author: \"Norabug\"\n",
    "date: \"2/2/2024\"\n",
    "categories:\n",
    "  - employees\n",
    "  - storefront\n",
    "  - aesthetic\n",
    "---"
   ]
  },
  {
   "cell_type": "markdown",
   "id": "e8fb4fd1-da3b-42f5-ae77-b3e307bd3ecb",
   "metadata": {},
   "source": [
    "# Exploring Nail Verde: Crafting My Dream Nail Salon\n",
    "\n",
    "As I delve into the realm of creativity and envision my ideal nail salon, I find myself drawn to the concept of Nail Verde—a sanctuary where nature nurtures your nails and soothes your soul. Join me on this imaginative journey as we explore the elements that make up my dream nail salon.\n",
    "\n",
    "## Embracing Nature's Beauty\n",
    "\n",
    "In the heart of Nail Verde, nature reigns supreme. Picture stepping into a verdant oasis, where lush greenery adorns every corner and the gentle murmur of a bubbling stream fills the air. From the earthy aroma of essential oils to the soft, natural light filtering through the canopy of trees, every detail is designed to evoke a sense of serenity and connection with the natural world.\n",
    "\n",
    "## Eco-Friendly Elegance\n",
    "\n",
    "At Nail Verde, sustainability is more than just a trend—it's a way of life. Our tables are crafted from reclaimed wood, our decor features upcycled materials, and our products are carefully selected for their eco-friendly credentials. By minimizing our environmental footprint, we aim to create a space that not only looks beautiful but also reflects our commitment to responsible stewardship of the planet.\n",
    "\n",
    "## Artistry and Expertise\n",
    "\n",
    "Behind every dazzling manicure and intricate nail art design at Nail Verde is a team of skilled artisans dedicated to their craft. Our nail technicians are not only masters of their trade but also passionate advocates for self-expression and individuality. Whether you're seeking a simple, understated look or a bold, statement-making design, our team is here to bring your vision to life with precision and flair.\n",
    "\n",
    "## Cultivating Community\n",
    "\n",
    "At Nail Verde, we believe that beauty is about more than just looking good—it's about feeling connected and empowered. That's why we're committed to fostering a vibrant community where clients can come together to share stories, celebrate milestones, and support one another on their journey to self-care and self-discovery. From workshops and events to online forums and social media groups, there's always a space for you to connect and engage with like-minded individuals who share your passion for beauty and wellness.\n",
    "\n",
    "## Dreaming Big\n",
    "\n",
    "As I continue to flesh out the concept of Nail Verde, I'm excited by the endless possibilities that lie ahead. From innovative nail treatments and immersive sensory experiences to partnerships with local artists and environmental initiatives, there's no limit to what we can achieve together. With your support and enthusiasm, Nail Verde has the potential to become not just a nail salon, but a beloved community hub where beauty, creativity, and sustainability converge in perfect harmony.\n",
    "\n",
    "Join me on this exhilarating journey as we bring the vision of Nail Verde to life—one brushstroke, one polish, and one smile at a time.\n",
    "\n",
    "*Stay tuned for updates and behind-the-scenes peeks into the evolution of Nail Verde. Together, let's create a nail salon like no other—one that celebrates the beauty of nature and the boundless creativity of the human spirit.*\n",
    "\n",
    "---\n",
    "\n",
    "## These pictures are a rough idea of what I would want the aesthetic of my nail salon, Nail Verde, to be. "
   ]
  },
  {
   "cell_type": "markdown",
   "id": "586e529d-deec-47fa-8b80-63bbfd798026",
   "metadata": {},
   "source": [
    "![](nails.png)"
   ]
  },
  {
   "cell_type": "markdown",
   "id": "5a0288c8-f6bb-43ca-856e-9ee04b5c0f7d",
   "metadata": {},
   "source": [
    "![](storefront.png)"
   ]
  },
  {
   "cell_type": "markdown",
   "id": "b312f856-f058-4dcb-9183-052b5cdee857",
   "metadata": {},
   "source": [
    "![](verde.png)"
   ]
  },
  {
   "cell_type": "markdown",
   "id": "0e2e0d4d-9107-43a3-a4df-43a1b47bab12",
   "metadata": {},
   "source": [
    "* Pictured is the name, tables, employees, and customers. There is an emphasis on nature and green to give the illusion of being in nature while getting your nails done. A calming experience. "
   ]
  },
  {
   "cell_type": "code",
   "execution_count": null,
   "id": "5143eacc-9fd5-4528-abee-3a96bb985bc4",
   "metadata": {},
   "outputs": [],
   "source": []
  }
 ],
 "metadata": {
  "citation-manager": {
   "items": {}
  },
  "kernelspec": {
   "display_name": "Python 3.11 (COMM4190)",
   "language": "python",
   "name": "comm4190"
  },
  "language_info": {
   "codemirror_mode": {
    "name": "ipython",
    "version": 3
   },
   "file_extension": ".py",
   "mimetype": "text/x-python",
   "name": "python",
   "nbconvert_exporter": "python",
   "pygments_lexer": "ipython3",
   "version": "3.11.7"
  }
 },
 "nbformat": 4,
 "nbformat_minor": 5
}
