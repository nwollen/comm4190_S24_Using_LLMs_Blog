{
 "cells": [
  {
   "cell_type": "raw",
   "id": "cbbdb7f3-e308-4a60-8dde-953b29f4f14c",
   "metadata": {},
   "source": [
    "---\n",
    "title: \"AI Influencer?\"\n",
    "description: \"Can AI revolutionize customer service, and fix the inefficiency of public transportation?\"\n",
    "author: \"Norabug\"\n",
    "date: \"5/1/2024\"\n",
    "categories:\n",
    "---"
   ]
  },
  {
   "cell_type": "markdown",
   "id": "27a903f1-3c6e-406e-824c-abb7ffdc7b35",
   "metadata": {},
   "source": [
    "# Lil Miquela: Exploring the Influence of AI in the Digital Age\n",
    "\n",
    "In the ever-evolving landscape of social media influencers, one name stands out among the crowd – Lil Miquela. With millions of followers on Instagram and TikTok, this virtual sensation has captured the attention of audiences worldwide. But what sets Lil Miquela apart from other influencers? The answer lies in her unique identity as an AI-created persona.\n",
    "\n",
    "## Introducing Lil Miquela\n",
    "\n",
    "Miquela Sousa, known as Lil Miquela, became popular in 2016 from the AI company Brud. Created to be a virtual influencer, Miquela's social media presence offers a narrative of a 19-year-old robot navigating life in Los Angeles. From collaborating with top fashion brands to advocating for social causes, Lil Miquela has become a cultural icon in her own right.\n",
    "\n",
    "### Lil Miquela's Journey:\n",
    "- Miquela's rise to fame began in 2016 when she was introduced as a virtual influencer by AI company Brud.\n",
    "- Her social media pages offer a detailed fictional narrative of a 19-year-old robot living in Los Angeles.\n",
    "- Lil Miquela has collaborated with renowned fashion brands and advocated for various social causes, garnering widespread recognition and acclaim.\n",
    "\n",
    "## Interviewing ChatGPT: The Categorization of AI Influencers\n",
    "\n",
    "**Question 1: Are AI influencers like Lil Miquela considered in the same vein as human influencers?**\n",
    "\n",
    "**ChatGPT's Response:** \"AI influencers occupy a unique space in the influencer landscape. While they may not possess human characteristics, their impact and engagement with audiences are comparable to that of human influencers. Lil Miquela, for example, has amassed a significant following and has collaborated with top brands, demonstrating her influence in the digital sphere.\"\n",
    "\n",
    "**My Thoughts:** Lil Miquela's influence extends beyond traditional categorizations, blurring the lines between human and AI-generated content. It's fascinating how she resonates with audiences, almost like she's one of us, despite her digital origins.\n",
    "\n",
    "**Question 2: Do you see the prevalence of AI influencers increasing in the future?**\n",
    "\n",
    "**ChatGPT's Response:** \"As technology continues to advance, the prevalence of AI influencers is likely to rise. Brands are increasingly turning to AI-generated personas like Lil Miquela to engage with audiences in innovative ways and tap into the limitless potential of artificial intelligence.\"\n",
    "\n",
    "**My Thoughts:** The rise of AI influencers presents exciting opportunities for brands to explore new avenues of digital storytelling and brand engagement. However, it also underscores the importance of transparency and authenticity in influencer marketing.\n",
    "\n",
    "## The Future of AI Influencers\n",
    "\n",
    "The emergence of AI influencers like Lil Miquela challenges conventional notions of influence and identity in the digital age. Whether AI influencers will become commonplace remains to be seen, but one thing is certain – Lil Miquela has paved the way for a new era of digital storytelling and brand engagement.\n"
   ]
  },
  {
   "cell_type": "markdown",
   "id": "169668a9-cf83-4b44-9731-60b11316a71e",
   "metadata": {},
   "source": [
    "![](influencer.png)"
   ]
  },
  {
   "cell_type": "markdown",
   "id": "2739a076-3c3b-4409-8d0c-3214e5821396",
   "metadata": {},
   "source": [
    "--- \n",
    "\n",
    "**Conclusion:**\n",
    "While AI influencers like Lil Miquela have made a significant impact in the digital landscape, I don't necessarily agree that they are on the same tier as human influencers. Their lives are fabricated, and their interactions lack the authenticity that human influencers bring to the table. However, they undoubtedly represent a fascinating development in the world of social media and technology."
   ]
  }
 ],
 "metadata": {
  "citation-manager": {
   "items": {}
  },
  "kernelspec": {
   "display_name": "Python 3.11 (COMM4190)",
   "language": "python",
   "name": "comm4190"
  },
  "language_info": {
   "codemirror_mode": {
    "name": "ipython",
    "version": 3
   },
   "file_extension": ".py",
   "mimetype": "text/x-python",
   "name": "python",
   "nbconvert_exporter": "python",
   "pygments_lexer": "ipython3",
   "version": "3.11.7"
  }
 },
 "nbformat": 4,
 "nbformat_minor": 5
}
