{
 "cells": [
  {
   "cell_type": "raw",
   "id": "f8f782ff-c62e-4efd-99d4-8d02944d4180",
   "metadata": {},
   "source": [
    "---\n",
    "title: \"Is AI truly uncensored?\"\n",
    "description: \"I wanted to have a conversation with Ollama Uncensored about it's political opinions. Maybe because it's uncensored, it will give me what it really thinks.\"\n",
    "author: \"Norabug\"\n",
    "date: \"3/19/2024\"\n",
    "categories:\n",
    "  - Politics\n",
    "  - Uncensored\n",
    "  - Opinion\n",
    "---"
   ]
  },
  {
   "cell_type": "code",
   "execution_count": null,
   "id": "b94fb953-b88f-4de7-88bc-a1888a642bc4",
   "metadata": {},
   "outputs": [],
   "source": []
  },
  {
   "cell_type": "code",
   "execution_count": null,
   "id": "d5211cfa-b026-4fa8-bc5b-c1df72b485bd",
   "metadata": {},
   "outputs": [],
   "source": []
  }
 ],
 "metadata": {
  "citation-manager": {
   "items": {}
  },
  "kernelspec": {
   "display_name": "Python 3.11 (COMM4190)",
   "language": "python",
   "name": "comm4190"
  },
  "language_info": {
   "codemirror_mode": {
    "name": "ipython",
    "version": 3
   },
   "file_extension": ".py",
   "mimetype": "text/x-python",
   "name": "python",
   "nbconvert_exporter": "python",
   "pygments_lexer": "ipython3",
   "version": "3.11.7"
  }
 },
 "nbformat": 4,
 "nbformat_minor": 5
}
