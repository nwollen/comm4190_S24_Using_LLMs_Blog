{
 "cells": [
  {
   "cell_type": "raw",
   "id": "3eb4f90b-ea9d-40f0-b8de-45f5c9bdaf9d",
   "metadata": {},
   "source": [
    "---\n",
    "title: \"A Start\"\n",
    "description: \"An example post from a Jupyter notebook\"\n",
    "author: \"Norabug\"\n",
    "date: \"2/2/2024\"\n",
    "categories:\n",
    "  - LLMs\n",
    "  - prompting\n",
    "  - Peach\n",
    "---"
   ]
  },
  {
   "cell_type": "markdown",
   "id": "3e5deb2d-f4c0-48ba-905b-b139dcf18522",
   "metadata": {},
   "source": [
    "## This is my first blog post, I am looking forward to sharing my thoughts and experiences "
   ]
  },
  {
   "cell_type": "code",
   "execution_count": 3,
   "id": "7f8d7524-6741-41a1-9bb9-70383f21e773",
   "metadata": {},
   "outputs": [
    {
     "name": "stdout",
     "output_type": "stream",
     "text": [
      "Hi\n",
      "Hi\n",
      "Hi\n",
      "Hi\n",
      "Hi\n",
      "Hi\n",
      "Hi\n",
      "Hi\n",
      "Hi\n",
      "Hi\n"
     ]
    }
   ],
   "source": [
    "for idx in range(10):\n",
    "    print('Hi')"
   ]
  },
  {
   "cell_type": "code",
   "execution_count": null,
   "id": "e737ff4f-ce35-4eed-b5b1-a9ac15d36422",
   "metadata": {},
   "outputs": [],
   "source": []
  },
  {
   "cell_type": "code",
   "execution_count": null,
   "id": "5e10a7f1-e2eb-4ea2-a739-c26bd8538e68",
   "metadata": {},
   "outputs": [],
   "source": []
  }
 ],
 "metadata": {
  "citation-manager": {
   "items": {}
  },
  "kernelspec": {
   "display_name": "Python 3.11 (COMM4190)",
   "language": "python",
   "name": "comm4190"
  },
  "language_info": {
   "codemirror_mode": {
    "name": "ipython",
    "version": 3
   },
   "file_extension": ".py",
   "mimetype": "text/x-python",
   "name": "python",
   "nbconvert_exporter": "python",
   "pygments_lexer": "ipython3",
   "version": "3.11.7"
  }
 },
 "nbformat": 4,
 "nbformat_minor": 5
}
