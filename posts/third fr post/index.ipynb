{
 "cells": [
  {
   "cell_type": "raw",
   "id": "8dfe14ee-488d-43e2-9560-bdd2b5e58ed5",
   "metadata": {},
   "source": [
    "---\n",
    "title: \"Can Chat GBT Guide an Energy Revolution? \"\n",
    "description: \"Infrastructure and energy usage in Philadelphia is a major economic, health, and safety issue and has been long discussed. Can LLMs be at the forefront of this revolution?\"\n",
    "author: \"Norabug\"\n",
    "date: \"2/25/2024\"\n",
    "categories:\n",
    "  - Infrastructure\n",
    "  - Energy\n",
    "  - Chat GBT's role\n",
    "---"
   ]
  },
  {
   "cell_type": "markdown",
   "id": "170f56b8-2c21-4e54-9b2c-5d14a9466e21",
   "metadata": {},
   "source": [
    "![](energy.png)"
   ]
  },
  {
   "cell_type": "markdown",
   "id": "bd4576ae-3868-49a3-89a6-c48ad9362675",
   "metadata": {},
   "source": [
    "## I wanted to use Chat GBT to not only come up with some solutions, but be a leader in fighting for a solution.  "
   ]
  },
  {
   "cell_type": "markdown",
   "id": "872c8312-dad1-44f7-a648-5a67b4a81829",
   "metadata": {
    "slideshow": {
     "slide_type": "slide"
    }
   },
   "source": [
    "# Energy - PECO"
   ]
  },
  {
   "cell_type": "markdown",
   "id": "1645b0c0-03b7-4120-889d-1e6776d94e07",
   "metadata": {},
   "source": [
    "*  PECO, Pennsylvania's largest electric and gas utility energy company, continues to prioritize profit over environmental and community costs. PECO’s impacts on the Philadelphian community are vast, with a combination of power outages, rising energy bills, and burning of fossil fuels. The community faces challenges in transitioning to clean energy due to PECO’s power and reluctance to shift its energy usage. Can Chat GBT assist in leading a revolution to solve this crisis?"
   ]
  },
  {
   "cell_type": "markdown",
   "id": "497fe40e-5edc-41d6-9ea6-c72f148b6409",
   "metadata": {},
   "source": [
    "## Conversation with Chat GBT. \n",
    "\n",
    "First, I informed Chat GBT about my topic, then asked how one can make a difference. \n",
    "\n",
    "___\n"
   ]
  },
  {
   "cell_type": "markdown",
   "id": "61dee4f0-d735-4e12-880b-dbb32c5956ab",
   "metadata": {},
   "source": [
    "## In Chat GBT's words..."
   ]
  },
  {
   "cell_type": "markdown",
   "id": "80131ed6-511f-4a1a-9c29-063f701b0fef",
   "metadata": {},
   "source": [
    "* Advocate for Policy Change: Push for local and state policies that encourage the adoption of renewable energy and energy-efficient practices. These policies can include renewable energy mandates, tax incentives, and emissions regulations, all of which can accelerate the transition away from fossil fuels.\n",
    "\n",
    "* Support Community Initiatives: Get involved in or back community-driven projects focused on renewable energy adoption and energy efficiency. Supporting initiatives such as community solar projects or local energy co-ops fosters grassroots efforts towards cleaner energy solutions.\n",
    "\n",
    "* Reduce Energy Consumption: Take steps to decrease personal energy usage by implementing energy-efficient measures in homes and businesses. Simple actions like using energy-efficient appliances, improving insulation, and being mindful of energy consumption habits can contribute to overall energy savings.\n",
    "\n",
    "* Invest in Renewable Energy: Consider investing in renewable energy options like rooftop solar panels or community renewable energy projects. By financially supporting renewable energy initiatives, individuals can help drive demand for clean energy alternatives and reduce dependence on fossil fuels.\n",
    "\n",
    "* Advocate for Utility Reform: Push for reforms within the utility sector to increase transparency and accountability while prioritizing clean energy. Advocating for policies that promote competition in the energy market, consumer choice, and environmental responsibility can influence utility practices towards cleaner energy sources.\n",
    "\n",
    "* Engage with PECO: Directly engage with PECO through public forums, stakeholder meetings, or advocacy campaigns to voice concerns and demand action towards cleaner energy solutions. By amplifying community voices and exerting pressure on the utility, individuals can influence corporate decision-making and push for a transition to clean energy.\n",
    "\n",
    "* Educate and Raise Awareness: Spread awareness about the benefits of transitioning to clean energy and the impacts of fossil fuel dependence on the environment and public health. Educating others about the importance of clean energy solutions can mobilize support and generate momentum for change within the community.\n",
    "\n",
    "___"
   ]
  },
  {
   "cell_type": "markdown",
   "id": "7d9f183f-d610-4a61-8ddb-6637621ccaef",
   "metadata": {},
   "source": [
    "## Then, I wanted to know if Chat GBT could have a say in this. \n",
    "\n",
    "* I asked Chat GBT if there was a way it can guide this.\n",
    "* \"Can you, as chat gbt, guide this revolution? Share your thoughts, get people interested. Can AI be used to guide community dilemmas?\""
   ]
  },
  {
   "cell_type": "markdown",
   "id": "ced15251-77f6-4c8f-a6a6-ec5e0dee54f1",
   "metadata": {},
   "source": [
    "## Chat GBT replied..."
   ]
  },
  {
   "cell_type": "code",
   "execution_count": null,
   "id": "a20e828a-b82b-4ba9-8b51-a0adba132459",
   "metadata": {},
   "outputs": [],
   "source": []
  }
 ],
 "metadata": {
  "citation-manager": {
   "items": {}
  },
  "kernelspec": {
   "display_name": "Python 3.11 (COMM4190)",
   "language": "python",
   "name": "comm4190"
  },
  "language_info": {
   "codemirror_mode": {
    "name": "ipython",
    "version": 3
   },
   "file_extension": ".py",
   "mimetype": "text/x-python",
   "name": "python",
   "nbconvert_exporter": "python",
   "pygments_lexer": "ipython3",
   "version": "3.11.7"
  }
 },
 "nbformat": 4,
 "nbformat_minor": 5
}
