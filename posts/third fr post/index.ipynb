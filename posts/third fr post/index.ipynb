{
 "cells": [
  {
   "cell_type": "raw",
   "id": "8dfe14ee-488d-43e2-9560-bdd2b5e58ed5",
   "metadata": {},
   "source": [
    "---\n",
    "title: \"Can Chat GBT Guide an Energy Revolution? \"\n",
    "description: \"Infrastructure and energy usage in Philadelphia is a major economic, health, and safety issue and has been long discussed. Can LLMs be the forefront of this revolution?\"\n",
    "author: \"Norabug\"\n",
    "date: \"2/25/2024\"\n",
    "categories:\n",
    "  - Infrastructure\n",
    "  - Energy\n",
    "  - Chat GBT's role\n",
    "---"
   ]
  },
  {
   "cell_type": "markdown",
   "id": "170f56b8-2c21-4e54-9b2c-5d14a9466e21",
   "metadata": {},
   "source": [
    "![](energy.png)"
   ]
  },
  {
   "cell_type": "markdown",
   "id": "872c8312-dad1-44f7-a648-5a67b4a81829",
   "metadata": {
    "slideshow": {
     "slide_type": "slide"
    }
   },
   "source": [
    "# Energy - PECO"
   ]
  },
  {
   "cell_type": "markdown",
   "id": "1645b0c0-03b7-4120-889d-1e6776d94e07",
   "metadata": {},
   "source": [
    "*  PECO, Pennsylvania's largest electric and gas utility energy company, continues to prioritize profit over environmental and community costs. PECO’s impacts on the Philadelphian community are vast, with a combination of power outages, rising energy bills, and burning of fossil fuels. The community faces challenges in transitioning to clean energy due to PECO’s power and reluctance to shift its energy usage. Can Chat GBT assist in leading a revolution to solve this crisis?"
   ]
  },
  {
   "cell_type": "code",
   "execution_count": null,
   "id": "f19a62ff-9740-4952-b2ee-1ec8bb16ed38",
   "metadata": {},
   "outputs": [],
   "source": []
  },
  {
   "cell_type": "code",
   "execution_count": null,
   "id": "a86a2906-730a-4b8e-8910-6cead6144662",
   "metadata": {},
   "outputs": [],
   "source": []
  }
 ],
 "metadata": {
  "citation-manager": {
   "items": {}
  },
  "kernelspec": {
   "display_name": "Python 3.11 (COMM4190)",
   "language": "python",
   "name": "comm4190"
  },
  "language_info": {
   "codemirror_mode": {
    "name": "ipython",
    "version": 3
   },
   "file_extension": ".py",
   "mimetype": "text/x-python",
   "name": "python",
   "nbconvert_exporter": "python",
   "pygments_lexer": "ipython3",
   "version": "3.11.7"
  }
 },
 "nbformat": 4,
 "nbformat_minor": 5
}
