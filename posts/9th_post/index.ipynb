{
 "cells": [
  {
   "cell_type": "raw",
   "id": "e73cb58e-88d3-44b9-833b-03fd7e6bc9bd",
   "metadata": {},
   "source": [
    "---\n",
    "title: \"AI and Renewable Energy Activism\"\n",
    "description: \"After my research on the effects activism can have on the renewable energy transition, I wonder if AI can help progress this pivotal moment.\"\n",
    "author: \"Norabug\"\n",
    "date: \"5/8/2024\"\n",
    "categories:\n",
    "---"
   ]
  },
  {
   "cell_type": "markdown",
   "id": "2228506a-ed40-474c-9a27-9db19f051128",
   "metadata": {},
   "source": [
    "# Exploring the Path to Renewable Energy in Philadelphia: Insights from Community Activism and Stakeholder Perspectives\n",
    "\n",
    "In one of my classes, I explored energy dynamics within Philadelphia, with a particular focus on the actions and impact of PECO, the city's primary energy provider. Despite its pivotal role, PECO has faced criticism for its reluctance to transition to renewable energy sources, prompting a surge in community activism advocating for cleaner alternatives.\n",
    "\n",
    "This activism stems from a concern for the economic, environmental, and communal repercussions of continued reliance on fossil fuels. While PECO's profit-oriented approach has prioritized cost-efficiency over environmental sustainability, a groundswell of local advocacy has emerged, demanding a shift towards renewable energy solutions such as solar, wind, and hydropower.\n",
    "\n",
    "To delve deeper into these issues, I conducted a series of structured interviews with Philadelphians representing diverse demographics and viewpoints. I interviewed a middle-aged father of two (Jeff) in Old City, two twenty one year old female student-athletes (Bronwyn and Katie) in University City, and a twenty year old male (Anders) living and working in North Philadelphia. This allows for a variety of responses based on different priorities and lifestyles. I included a podcast showcasing my exact conversation with Bronwyn, Katie, and Anders, while my separate interview with Jeff was not recorded, as I took down quotes. I purposefully asked them all the same open-ended questions. Through these conversations, I gained valuable insights into the challenges and opportunities associated with transitioning to renewable energy.\n",
    "\n",
    "One recurring theme was the tension between the environmental benefits of renewable energy and the practical challenges of implementation, particularly regarding cost and infrastructure. While many interviewees expressed a desire for a sustainable future, concerns about affordability and feasibility were prevalent, underscoring the need for pragmatic solutions that balance environmental goals with economic realities.\n",
    "\n",
    "Drawing inspiration from successful activism movements, such as those in South Korea following the Fukushima disaster, I'm committed to amplifying the voices of Philadelphians and advocating for meaningful change. By harnessing digital media and community engagement strategies, I aim to empower residents to shape the city's energy future and drive towards cleaner, more sustainable practices.\n",
    "\n",
    "## Insights from Interviews\n",
    "\n",
    "### Jeff:\n",
    "- \"The biggest challenge for Philly, and the whole northeast, is the investment required to make electricity green at the scale needed to power large cities. We need to upgrade the grid, and we need to reconsider nuclear power.\"\n",
    "- \"We have not lived in Philly long enough to notice any changes. But electricity here is much more expensive than in Texas, where natural gas is abundant and cheap and powers most of the electrical generation.\"\n",
    "- \"I don’t think it’s feasible to power the northeastern part of the US on wind and solar. The investment would be significant. We need to look at other sources. Nuclear power.\"\n",
    "- \"Unfortunately, human nature is such that while many people will talk about 'going green', they change their buying habits only marginally to make themselves feel good. The same way with our government. I doubt people would sway PECO to move to greener energy if it meant higher prices.\"\n",
    "\n",
    "### Anders:\n",
    "- \"Philadelphia and Pennsylvania in general is behind the rest of the country in terms of infrastructure to source renewable energy, but our electricity bills are higher on average.\"\n",
    "- \"I think it's important for PECO and the city of Philadelphia to continue to invest in renewable energy infrastructure. Its long term potential to help offset the effects of climate change shouldn't be overlooked. That being said, as a PECO customer, energy from non renewable fossil fuels is much cheaper than solar or wind.\"\n",
    "\n",
    "### Bronwyn:\n",
    "- \"The most pressing challenge facing Philadelphia is the lack of access to sustainable housing. The lack of access to housing that can affordably produce and depend on sustainable energy is what's holding Philadelphia back.\"\n",
    "- \"I think the transition to wind and solar is possible in Philly, I think that it would really require a lot of sustainable infrastructure to be built. I know that Penn is doing a solar project, and I think that could be helpful in helping Penn transition. Other Ivy Leagues have divested from fossil fuels, Penn as a major institution can be a driver in spurring that change.\"\n",
    "- \"If Philly was able to transition, it’s a very walkable city, and that would add.\"\n",
    "\n",
    "### Katie:\n",
    "- \"With Philadelphia being a much older city, with a lot of houses having older appliances that utilize a higher consumption of energy on a daily basis because of low replacement and high cost of replacement. This is going to be a significant challenge over the next couple of years as the city looks to adapt to more sustainable practices.\"\n",
    "- \"I think it would be a really great opportunity for the city to start implementing these practices for longevity of the city and for the health of Philadelphians as well.\"\n",
    "- \"If the majority of people are environmentally cautious, especially in energy consumption, it could lead major leaders like PECO to push to offer energy services though using solar and wind power. People CARING about sustainable practices is really important in making a change.\"\n",
    "\n",
    "## Empowering Change Through Collaboration\n",
    "\n",
    "Ultimately, my research highlights the urgent need for collaborative action to address the complex challenges of energy transition in Philadelphia. By bridging the gap between stakeholders and fostering dialogue, we can pave the way for a more resilient, equitable, and environmentally conscious energy ecosystem in our city.\n",
    "\n",
    "---\n"
   ]
  },
  {
   "cell_type": "markdown",
   "id": "479b96f4-738a-472e-b4f1-95127adb2717",
   "metadata": {},
   "source": [
    "# How can AI be integrated into this activism?"
   ]
  },
  {
   "cell_type": "markdown",
   "id": "a543fcb6-9d66-4b54-8bf2-580548061214",
   "metadata": {},
   "source": [
    "I asked ChatGPT in regards to my research, how can AI be leveraged to help this energy transition progress?"
   ]
  },
  {
   "cell_type": "markdown",
   "id": "b96fbef2-20c9-4e22-a8dc-ce81abee364b",
   "metadata": {},
   "source": [
    "### **Question 1: How can AI be utilized to analyze energy consumption patterns and optimize renewable energy integration?**\n",
    "\n",
    "**Response:** AI algorithms can analyze vast datasets related to energy consumption, weather conditions, and infrastructure requirements. By leveraging this data, AI can provide insights into the most effective strategies for transitioning to renewable energy while minimizing costs and maximizing environmental benefits.\n",
    "\n",
    "### **Question 2: What role can AI play in enhancing the efficiency of energy distribution networks?**\n",
    "\n",
    "**Response:** AI-powered smart grid technologies can optimize energy flow, detect outages, and integrate renewable energy sources seamlessly into the existing infrastructure. These systems can improve reliability and reduce reliance on fossil fuels during peak demand periods.\n",
    "\n",
    "### **Question 3: How can AI contribute to customer engagement and education regarding renewable energy practices?**\n",
    "\n",
    "**Response:** AI-driven platforms can provide personalized recommendations based on individual energy usage patterns, empowering consumers to make informed decisions. These platforms can educate consumers about the benefits of renewable energy and energy conservation practices.\n",
    "\n",
    "### **Question 4: In what ways can AI assist policymakers and energy stakeholders in decision-making processes?**\n",
    "\n",
    "**Response:** AI-powered analytics can evaluate the potential impacts of different policy interventions and investment strategies. By simulating various scenarios, AI can inform evidence-based decision-making and support the transition to clean energy.\n",
    "\n",
    "### **Question 5: Can AI-driven robotics and drones play a role in renewable energy infrastructure development and maintenance?**\n",
    "\n",
    "**Response:** Yes, AI-powered robotics and drones can enhance efficiency, reduce costs, and improve safety in the construction, maintenance, and monitoring of renewable energy infrastructure such as solar farms and wind turbines.\n",
    "\n",
    "---\n"
   ]
  },
  {
   "cell_type": "markdown",
   "id": "63ccc7b3-57b4-40cc-a263-87d776e4b151",
   "metadata": {},
   "source": [
    "It's clear that we've uncovered some crucial insights into Philadelphia's energy scene. There's a hunger for change in the community, and it's inspiring to see such passionate activism pushing for cleaner alternatives. By listening to each other and embracing new technologies like AI, we have a shot at steering our city towards a greener, and more resilient energy future. It's a journey we'll need to take together, but the destination promises to be worth it – a Philadelphia that's not just powered by clean energy, but powered by the collective will to make a difference.\n"
   ]
  },
  {
   "cell_type": "markdown",
   "id": "8720756e-b35a-4f34-8058-71c96644df26",
   "metadata": {},
   "source": [
    "![](activism.png)"
   ]
  },
  {
   "cell_type": "code",
   "execution_count": null,
   "id": "ec23a93e-0e68-490d-8034-2138df96c5e0",
   "metadata": {},
   "outputs": [],
   "source": []
  }
 ],
 "metadata": {
  "citation-manager": {
   "items": {}
  },
  "kernelspec": {
   "display_name": "Python 3.11 (COMM4190)",
   "language": "python",
   "name": "comm4190"
  },
  "language_info": {
   "codemirror_mode": {
    "name": "ipython",
    "version": 3
   },
   "file_extension": ".py",
   "mimetype": "text/x-python",
   "name": "python",
   "nbconvert_exporter": "python",
   "pygments_lexer": "ipython3",
   "version": "3.11.7"
  }
 },
 "nbformat": 4,
 "nbformat_minor": 5
}
