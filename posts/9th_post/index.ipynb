{
 "cells": [
  {
   "cell_type": "raw",
   "id": "e73cb58e-88d3-44b9-833b-03fd7e6bc9bd",
   "metadata": {},
   "source": [
    "---\n",
    "title: \"AI and Renewable Energy Activism\"\n",
    "description: \"Curious about the future of the Met Gala? Join me as I dive into the realm of AI-enhanced fashion.\"\n",
    "author: \"Norabug\"\n",
    "date: \"5/8/2024\"\n",
    "categories:\n",
    "---"
   ]
  },
  {
   "cell_type": "markdown",
   "id": "2228506a-ed40-474c-9a27-9db19f051128",
   "metadata": {},
   "source": [
    "# Exploring the Path to Renewable Energy in Philadelphia: Insights from Community Activism and Stakeholder Perspectives\n",
    "\n",
    "In one of my classes, I explored energy dynamics within Philadelphia, with a particular focus on the actions and impact of PECO, the city's primary energy provider. Despite its pivotal role, PECO has faced criticism for its reluctance to transition to renewable energy sources, prompting a surge in community activism advocating for cleaner alternatives.\n",
    "\n",
    "This activism stems from a concern for the economic, environmental, and communal repercussions of continued reliance on fossil fuels. While PECO's profit-oriented approach has prioritized cost-efficiency over environmental sustainability, a groundswell of local advocacy has emerged, demanding a shift towards renewable energy solutions such as solar, wind, and hydropower.\n",
    "\n",
    "To delve deeper into these issues, I conducted a series of structured interviews with Philadelphians representing diverse demographics and viewpoints. I interviewed a middle-aged father of two (Jeff) in Old City, two twenty one year old female student-athletes (Bronwyn and Katie) in University City, and a twenty year old male (Anders) living and working in North Philadelphia. This allows for a variety of responses based on different priorities and lifestyles. I included a podcast showcasing my exact conversation with Bronwyn, Katie, and Anders, while my separate interview with Jeff was not recorded, as I took down quotes. I purposefully asked them all the same open-ended questions. Through these conversations, I gained valuable insights into the challenges and opportunities associated with transitioning to renewable energy.\n",
    "\n",
    "One recurring theme was the tension between the environmental benefits of renewable energy and the practical challenges of implementation, particularly regarding cost and infrastructure. While many interviewees expressed a desire for a sustainable future, concerns about affordability and feasibility were prevalent, underscoring the need for pragmatic solutions that balance environmental goals with economic realities.\n",
    "\n",
    "Drawing inspiration from successful activism movements, such as those in South Korea following the Fukushima disaster, I'm committed to amplifying the voices of Philadelphians and advocating for meaningful change. By harnessing digital media and community engagement strategies, I aim to empower residents to shape the city's energy future and drive towards cleaner, more sustainable practices.\n",
    "\n",
    "## Insights from Interviews\n",
    "\n",
    "### Jeff:\n",
    "- \"The biggest challenge for Philly, and the whole northeast, is the investment required to make electricity green at the scale needed to power large cities. We need to upgrade the grid, and we need to reconsider nuclear power.\"\n",
    "- \"We have not lived in Philly long enough to notice any changes. But electricity here is much more expensive than in Texas, where natural gas is abundant and cheap and powers most of the electrical generation.\"\n",
    "- \"I don’t think it’s feasible to power the northeastern part of the US on wind and solar. The investment would be significant. We need to look at other sources. Nuclear power.\"\n",
    "- \"Unfortunately, human nature is such that while many people will talk about 'going green', they change their buying habits only marginally to make themselves feel good. The same way with our government. I doubt people would sway PECO to move to greener energy if it meant higher prices.\"\n",
    "\n",
    "### Anders:\n",
    "- \"Philadelphia and Pennsylvania in general is behind the rest of the country in terms of infrastructure to source renewable energy, but our electricity bills are higher on average.\"\n",
    "- \"I think it's important for PECO and the city of Philadelphia to continue to invest in renewable energy infrastructure. Its long term potential to help offset the effects of climate change shouldn't be overlooked. That being said, as a PECO customer, energy from non renewable fossil fuels is much cheaper than solar or wind.\"\n",
    "\n",
    "### Bronwyn:\n",
    "- \"The most pressing challenge facing Philadelphia is the lack of access to sustainable housing. The lack of access to housing that can affordably produce and depend on sustainable energy is what's holding Philadelphia back.\"\n",
    "- \"I think the transition to wind and solar is possible in Philly, I think that it would really require a lot of sustainable infrastructure to be built. I know that Penn is doing a solar project, and I think that could be helpful in helping Penn transition. Other Ivy Leagues have divested from fossil fuels, Penn as a major institution can be a driver in spurring that change.\"\n",
    "- \"If Philly was able to transition, it’s a very walkable city, and that would add.\"\n",
    "\n",
    "### Katie:\n",
    "- \"With Philadelphia being a much older city, with a lot of houses having older appliances that utilize a higher consumption of energy on a daily basis because of low replacement and high cost of replacement. This is going to be a significant challenge over the next couple of years as the city looks to adapt to more sustainable practices.\"\n",
    "- \"I think it would be a really great opportunity for the city to start implementing these practices for longevity of the city and for the health of Philadelphians as well.\"\n",
    "- \"If the majority of people are environmentally cautious, especially in energy consumption, it could lead major leaders like PECO to push to offer energy services though using solar and wind power. People CARING about sustainable practices is really important in making a change.\"\n",
    "\n",
    "## Empowering Change Through Collaboration\n",
    "\n",
    "Ultimately, my research highlights the urgent need for collaborative action to address the complex challenges of energy transition in Philadelphia. By bridging the gap between stakeholders and fostering dialogue, we can pave the way for a more resilient, equitable, and environmentally conscious energy ecosystem in our city.\n",
    "\n",
    "---\n"
   ]
  },
  {
   "cell_type": "markdown",
   "id": "479b96f4-738a-472e-b4f1-95127adb2717",
   "metadata": {},
   "source": [
    "# How can AI be integrated into activism?"
   ]
  },
  {
   "cell_type": "code",
   "execution_count": null,
   "id": "48a36673-c5f6-4c78-a874-204d7404d4fa",
   "metadata": {},
   "outputs": [],
   "source": []
  }
 ],
 "metadata": {
  "citation-manager": {
   "items": {}
  },
  "kernelspec": {
   "display_name": "Python 3.11 (COMM4190)",
   "language": "python",
   "name": "comm4190"
  },
  "language_info": {
   "codemirror_mode": {
    "name": "ipython",
    "version": 3
   },
   "file_extension": ".py",
   "mimetype": "text/x-python",
   "name": "python",
   "nbconvert_exporter": "python",
   "pygments_lexer": "ipython3",
   "version": "3.11.7"
  }
 },
 "nbformat": 4,
 "nbformat_minor": 5
}
