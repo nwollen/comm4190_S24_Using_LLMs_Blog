{
 "cells": [
  {
   "cell_type": "raw",
   "id": "94d0f54e-6c72-42db-97c7-80dff6ab8dd2",
   "metadata": {},
   "source": [
    "---\n",
    "title: \"PathPilot Revolutionized Transportation Service\"\n",
    "description: \"Can AI revolutionize customer service, and fix the inefficiency of public transportation?\"\n",
    "author: \"Norabug\"\n",
    "date: \"5/1/2024\"\n",
    "categories:\n",
    "---"
   ]
  },
  {
   "cell_type": "code",
   "execution_count": null,
   "id": "c1a7bffd-57ec-4785-9894-2983eb2192a6",
   "metadata": {},
   "outputs": [],
   "source": []
  }
 ],
 "metadata": {
  "citation-manager": {
   "items": {}
  },
  "kernelspec": {
   "display_name": "Python 3.11 (COMM4190)",
   "language": "python",
   "name": "comm4190"
  },
  "language_info": {
   "codemirror_mode": {
    "name": "ipython",
    "version": 3
   },
   "file_extension": ".py",
   "mimetype": "text/x-python",
   "name": "python",
   "nbconvert_exporter": "python",
   "pygments_lexer": "ipython3",
   "version": "3.11.7"
  }
 },
 "nbformat": 4,
 "nbformat_minor": 5
}
