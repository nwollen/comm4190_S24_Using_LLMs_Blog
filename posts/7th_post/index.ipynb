{
 "cells": [
  {
   "cell_type": "raw",
   "id": "94d0f54e-6c72-42db-97c7-80dff6ab8dd2",
   "metadata": {},
   "source": [
    "---\n",
    "title: \"PathPilot Revolutionized Transportation Service\"\n",
    "description: \"Can AI revolutio\"\n",
    "author: \"Norabug\"\n",
    "date: \"4/30/2024\"\n",
    "categories:\n",
    "  - track\n",
    "  - basketball\n",
    "  - consulting\n",
    "---"
   ]
  }
 ],
 "metadata": {
  "citation-manager": {
   "items": {}
  },
  "kernelspec": {
   "display_name": "Python 3.11 (COMM4190)",
   "language": "python",
   "name": "comm4190"
  },
  "language_info": {
   "codemirror_mode": {
    "name": "ipython",
    "version": 3
   },
   "file_extension": ".py",
   "mimetype": "text/x-python",
   "name": "python",
   "nbconvert_exporter": "python",
   "pygments_lexer": "ipython3",
   "version": "3.11.7"
  }
 },
 "nbformat": 4,
 "nbformat_minor": 5
}
