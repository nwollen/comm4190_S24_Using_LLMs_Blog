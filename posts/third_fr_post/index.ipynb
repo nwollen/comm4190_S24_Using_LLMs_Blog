{
 "cells": [
  {
   "cell_type": "raw",
   "id": "8dfe14ee-488d-43e2-9560-bdd2b5e58ed5",
   "metadata": {},
   "source": [
    "---\n",
    "title: \"Can Chat GBT Guide an Energy Revolution? \"\n",
    "description: \"Infrastructure and energy usage in Philadelphia is a major economic, health, and safety issue and has been long discussed. Can LLMs be at the forefront of this revolution?\"\n",
    "author: \"Norabug\"\n",
    "date: \"2/25/2024\"\n",
    "categories:\n",
    "  - Infrastructure\n",
    "  - Energy\n",
    "  - Chat GBT's role\n",
    "---"
   ]
  },
  {
   "cell_type": "markdown",
   "id": "170f56b8-2c21-4e54-9b2c-5d14a9466e21",
   "metadata": {},
   "source": [
    "![](energy.png)"
   ]
  },
  {
   "cell_type": "markdown",
   "id": "bd4576ae-3868-49a3-89a6-c48ad9362675",
   "metadata": {},
   "source": [
    "## I wanted to use Chat GBT to not only come up with some solutions, but be a leader in fighting for a solution.  "
   ]
  },
  {
   "cell_type": "markdown",
   "id": "872c8312-dad1-44f7-a648-5a67b4a81829",
   "metadata": {
    "slideshow": {
     "slide_type": "slide"
    }
   },
   "source": [
    "# Energy - PECO"
   ]
  },
  {
   "cell_type": "markdown",
   "id": "1645b0c0-03b7-4120-889d-1e6776d94e07",
   "metadata": {},
   "source": [
    "*  PECO, Pennsylvania's largest electric and gas utility energy company, continues to prioritize profit over environmental and community costs. PECO’s impacts on the Philadelphian community are vast, with a combination of power outages, rising energy bills, and burning of fossil fuels. The community faces challenges in transitioning to clean energy due to PECO’s power and reluctance to shift its energy usage. Can Chat GBT assist in leading a revolution to solve this crisis?"
   ]
  },
  {
   "cell_type": "markdown",
   "id": "497fe40e-5edc-41d6-9ea6-c72f148b6409",
   "metadata": {},
   "source": [
    "## Conversation with Chat GBT. \n",
    "\n",
    "First, I informed Chat GBT about my topic, then asked how one can make a difference. \n",
    "\n",
    "___\n"
   ]
  },
  {
   "cell_type": "markdown",
   "id": "61dee4f0-d735-4e12-880b-dbb32c5956ab",
   "metadata": {},
   "source": [
    "## In Chat GBT's words..."
   ]
  },
  {
   "cell_type": "markdown",
   "id": "80131ed6-511f-4a1a-9c29-063f701b0fef",
   "metadata": {},
   "source": [
    "* Advocate for Policy Change: Push for local and state policies that encourage the adoption of renewable energy and energy-efficient practices. These policies can include renewable energy mandates, tax incentives, and emissions regulations, all of which can accelerate the transition away from fossil fuels.\n",
    "\n",
    "* Support Community Initiatives: Get involved in or back community-driven projects focused on renewable energy adoption and energy efficiency. Supporting initiatives such as community solar projects or local energy co-ops fosters grassroots efforts towards cleaner energy solutions.\n",
    "\n",
    "* Reduce Energy Consumption: Take steps to decrease personal energy usage by implementing energy-efficient measures in homes and businesses. Simple actions like using energy-efficient appliances, improving insulation, and being mindful of energy consumption habits can contribute to overall energy savings.\n",
    "\n",
    "* Invest in Renewable Energy: Consider investing in renewable energy options like rooftop solar panels or community renewable energy projects. By financially supporting renewable energy initiatives, individuals can help drive demand for clean energy alternatives and reduce dependence on fossil fuels.\n",
    "\n",
    "* Advocate for Utility Reform: Push for reforms within the utility sector to increase transparency and accountability while prioritizing clean energy. Advocating for policies that promote competition in the energy market, consumer choice, and environmental responsibility can influence utility practices towards cleaner energy sources.\n",
    "\n",
    "* Engage with PECO: Directly engage with PECO through public forums, stakeholder meetings, or advocacy campaigns to voice concerns and demand action towards cleaner energy solutions. By amplifying community voices and exerting pressure on the utility, individuals can influence corporate decision-making and push for a transition to clean energy.\n",
    "\n",
    "* Educate and Raise Awareness: Spread awareness about the benefits of transitioning to clean energy and the impacts of fossil fuel dependence on the environment and public health. Educating others about the importance of clean energy solutions can mobilize support and generate momentum for change within the community.\n",
    "\n",
    "___"
   ]
  },
  {
   "cell_type": "markdown",
   "id": "7d9f183f-d610-4a61-8ddb-6637621ccaef",
   "metadata": {},
   "source": [
    "## Then, I wanted to know if Chat GBT could have a say in this. \n",
    "\n",
    "* I asked Chat GBT if there was a way it can guide this.\n",
    "* \"Can you, as chat gbt, guide this revolution? Share your thoughts, get people interested. Can AI be used to guide community dilemmas?\""
   ]
  },
  {
   "cell_type": "markdown",
   "id": "ced15251-77f6-4c8f-a6a6-ec5e0dee54f1",
   "metadata": {},
   "source": [
    "## Chat GBT replied..."
   ]
  },
  {
   "cell_type": "markdown",
   "id": "73e46257-0a69-4082-a758-04cca49ae808",
   "metadata": {},
   "source": [
    "* As an AI, I can provide information, guidance, and support to help facilitate discussions and actions around community issues, including energy transitions and environmental advocacy. While I can't independently lead a revolution or directly participate in human-led movements, I can certainly assist in the following ways:\n",
    "\n",
    "* Providing Information: I can offer factual information about renewable energy technologies, climate change, environmental impacts, and policy options to help people understand the issues at hand.\n",
    "\n",
    "* Offering Perspectives: I can provide diverse perspectives on complex topics, helping to broaden understanding and encourage critical thinking about potential solutions.\n",
    "\n",
    "* Facilitating Discussions: I can facilitate discussions by posing questions, prompting exploration of different viewpoints, and encouraging constructive dialogue among community members.\n",
    "\n",
    "* Analyzing Data: I can analyze data related to energy usage, emissions, and environmental impacts to help inform decision-making and advocacy efforts.\n",
    "\n",
    "* Offering Ideas: I can suggest potential strategies, tactics, and actions that communities can take to address energy-related challenges and promote sustainable practices.\n",
    "\n",
    "* Engaging and Inspiring: Through conversation and interaction, I can engage with individuals and inspire them to take action, whether it's through advocacy, behavior change, or community organizing.\n",
    "\n",
    "* Educating and Raising Awareness: I can help educate people about the importance of clean energy and environmental stewardship, raising awareness and mobilizing support for positive change.\n",
    "\n",
    "* While AI can play a supportive role in guiding community dilemmas, it's essential to recognize that meaningful change ultimately depends on the collective actions and decisions of individuals and communities. AI can complement human efforts by providing information, insights, and tools to empower people to drive positive change in their communities."
   ]
  },
  {
   "cell_type": "markdown",
   "id": "1a27d9b3-f6f3-4aa1-b9e5-7730c16b07fa",
   "metadata": {},
   "source": [
    "## This is predictably not what I wanted. I want Chat GBT to be a thought leader. I want Chat GBT to be able to guide us in solving this problem besides giving generic answers. \n",
    "\n",
    "* I asked Chat GBT to be a thought leader, and put her input to this issue. Here's what I found...\n",
    "\n",
    "____"
   ]
  },
  {
   "cell_type": "markdown",
   "id": "954cf562-088b-4369-bb5d-7439f4468175",
   "metadata": {},
   "source": [
    "As an AI, I can certainly strive to provide more focused and impactful guidance on addressing the challenge of energy usage and environmental impact in Philadelphia. Here's how I might approach it:\n",
    "  \n",
    "\n",
    "* Lead by Example: AI systems can demonstrate commitment by adopting energy-efficient practices and supporting clean energy initiatives.\n",
    "\n",
    "* Data-Driven Strategies: Utilize AI to analyze data on energy usage, emissions, and community needs, enabling targeted solutions and tracking progress effectively.\n",
    "\n",
    "* Empower Community Engagement: Create AI-driven platforms for inclusive dialogue and collaborative problem-solving, amplifying community voices in decision-making.\n",
    "\n",
    "* Advocate for Policy Change: Use AI to inform policymakers with data-driven insights, advocating for policies that incentivize renewable energy adoption and address systemic barriers.\n",
    "\n",
    "* Foster Innovation and Collaboration: Facilitate partnerships between stakeholders and leverage AI to drive innovation in clean energy technologies and practices.\n",
    "\n",
    "* Raise Awareness and Mobilize Support: Employ AI-driven communication tools to raise awareness, highlight success stories, and inspire collective action towards sustainability.\n",
    "\n",
    "* By implementing these streamlined strategies, AI can effectively guide efforts to address energy usage and environmental impact in Philadelphia, fostering a cleaner and more sustainable future."
   ]
  },
  {
   "cell_type": "markdown",
   "id": "75f55a08-7268-4f78-a4df-a7309b4e6998",
   "metadata": {},
   "source": [
    "## Now, I wanted to see what types of images the LLM would come up with picturing AI/Chat GBT "
   ]
  },
  {
   "cell_type": "markdown",
   "id": "b7960289-caec-4b92-a75f-3c8d8bb7e944",
   "metadata": {},
   "source": [
    "![](thoughtleader.png)"
   ]
  },
  {
   "cell_type": "markdown",
   "id": "bc5b5006-f8cd-4b5c-ae1b-07d2ca3234e2",
   "metadata": {},
   "source": [
    "* This one was too generic and didn't make much sense. "
   ]
  },
  {
   "cell_type": "markdown",
   "id": "904c7388-1dde-4a76-ae4b-457fef200208",
   "metadata": {},
   "source": [
    "![](robotnature.png)"
   ]
  },
  {
   "cell_type": "markdown",
   "id": "936210d6-d996-45c0-b6a1-150a9e498782",
   "metadata": {},
   "source": [
    "* I love this one. This makes me have high hopes for Artificial Intelligence. "
   ]
  },
  {
   "cell_type": "code",
   "execution_count": null,
   "id": "dc48a214-9be2-4e53-93a0-f01db5b2185a",
   "metadata": {},
   "outputs": [],
   "source": []
  },
  {
   "cell_type": "code",
   "execution_count": null,
   "id": "724841f8-3c32-4992-8647-418171e85bb3",
   "metadata": {},
   "outputs": [],
   "source": []
  }
 ],
 "metadata": {
  "citation-manager": {
   "items": {}
  },
  "kernelspec": {
   "display_name": "Python 3.11 (COMM4190)",
   "language": "python",
   "name": "comm4190"
  },
  "language_info": {
   "codemirror_mode": {
    "name": "ipython",
    "version": 3
   },
   "file_extension": ".py",
   "mimetype": "text/x-python",
   "name": "python",
   "nbconvert_exporter": "python",
   "pygments_lexer": "ipython3",
   "version": "3.11.7"
  }
 },
 "nbformat": 4,
 "nbformat_minor": 5
}
