{
 "cells": [
  {
   "cell_type": "markdown",
   "id": "28da2a8f-2ed9-403d-ae65-b5ebb50a18cc",
   "metadata": {},
   "source": [
    "---\n",
    "title: \"Who's the True Expert?\"\n",
    "description: \"During our class project, we explored the feasibility of distinguishing between a genuine expert and ChatGPT. Now, let's investigate how straightforward it is to identify the authentic expert in a particular field.\"\n",
    "author: \"Norabug\"\n",
    "date: \"4/30/2024\"\n",
    "categories:\n",
    "  - track\n",
    "  - basketball\n",
    "  - consulting\n",
    "---"
   ]
  },
  {
   "cell_type": "code",
   "execution_count": null,
   "id": "8fa31bd1-bd90-4c5e-b49f-87e371d12914",
   "metadata": {},
   "outputs": [],
   "source": []
  },
  {
   "cell_type": "code",
   "execution_count": null,
   "id": "2336a787-73e9-4ba3-8969-696186c3ac2c",
   "metadata": {},
   "outputs": [],
   "source": []
  }
 ],
 "metadata": {
  "citation-manager": {
   "items": {}
  },
  "kernelspec": {
   "display_name": "Python 3.11 (COMM4190)",
   "language": "python",
   "name": "comm4190"
  },
  "language_info": {
   "codemirror_mode": {
    "name": "ipython",
    "version": 3
   },
   "file_extension": ".py",
   "mimetype": "text/x-python",
   "name": "python",
   "nbconvert_exporter": "python",
   "pygments_lexer": "ipython3",
   "version": "3.11.7"
  }
 },
 "nbformat": 4,
 "nbformat_minor": 5
}
