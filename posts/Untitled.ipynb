{
 "cells": [
  {
   "cell_type": "code",
   "execution_count": null,
   "id": "7db87574-7d0d-49dc-82e7-d3e36c462d15",
   "metadata": {},
   "outputs": [],
   "source": [
    "---\n",
    "title: \"Who's the True Expert?\"\n",
    "description: \"During our class project, we explored the feasibility of distinguishing between a genuine expert and ChatGPT. Now, let's investigate how straightforward it is to identify the authentic expert in a particular field.\"\n",
    "author: \"Norabug\"\n",
    "date: \"4/30/2024\"\n",
    "categories:\n",
    "  - track\n",
    "  - basketball\n",
    "  - co\n",
    "---"
   ]
  }
 ],
 "metadata": {
  "citation-manager": {
   "items": {}
  },
  "kernelspec": {
   "display_name": "Python 3.11 (COMM4190)",
   "language": "python",
   "name": "comm4190"
  },
  "language_info": {
   "codemirror_mode": {
    "name": "ipython",
    "version": 3
   },
   "file_extension": ".py",
   "mimetype": "text/x-python",
   "name": "python",
   "nbconvert_exporter": "python",
   "pygments_lexer": "ipython3",
   "version": "3.11.7"
  }
 },
 "nbformat": 4,
 "nbformat_minor": 5
}
