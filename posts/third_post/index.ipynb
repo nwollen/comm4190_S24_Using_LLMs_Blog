{
 "cells": [
  {
   "cell_type": "raw",
   "id": "a1d0762d-9de6-49b6-9575-23a0f15479f4",
   "metadata": {},
   "source": [
    "---\n",
    "title: \"Life in '84 (not 1984)\"\n",
    "description: \"What will life be like in 2084?\"\n",
    "author: \"Norabug\"\n",
    "date: \"2/2/2024\"\n",
    "categories:\n",
    "  - art\n",
    "  - power\n",
    "  - new\n",
    "---"
   ]
  },
  {
   "cell_type": "code",
   "execution_count": null,
   "id": "bb5ab49d-2698-44e5-8f4f-91215cf966ab",
   "metadata": {},
   "outputs": [],
   "source": []
  },
  {
   "cell_type": "markdown",
   "id": "09101705-2887-4510-86e4-2e464cf98fd7",
   "metadata": {},
   "source": [
    "# 2084"
   ]
  },
  {
   "cell_type": "markdown",
   "id": "c26cae4f-b236-4653-849d-cc78c44c34a4",
   "metadata": {},
   "source": [
    "## In a world where Artificial Intelligence is rapidly becoming more efficient, I wanted to see how I could interview AI to see what life will be like in 2084. "
   ]
  },
  {
   "cell_type": "markdown",
   "id": "6ad972a7-922b-4922-9367-ed9cb711e631",
   "metadata": {},
   "source": [
    "![](art_ai.png)"
   ]
  },
  {
   "cell_type": "markdown",
   "id": "1c570275-fd03-42af-b364-780758cb5596",
   "metadata": {},
   "source": [
    "## Art. How will AI change the world of art? Here, I prompted it to show me how creativity, art, and the world will be in 2084. Pretty scary, right? The power Artificial Intelligence will hold seems to be vast.\n",
    "  \n",
    "_HERE'S WHAT CHAT GBT PREDICTED ART WILL BE LIKE IN 2084._\n",
    "\n",
    "---"
   ]
  },
  {
   "cell_type": "markdown",
   "id": "e63d261c-dfe5-4c1a-b614-26580ba3a6b9",
   "metadata": {},
   "source": [
    "* Virtual Reality (VR) Dominance: By 2084, virtual reality has become the dominant medium for artistic expression. Artists create immersive experiences that transcend traditional boundaries of space and time, allowing viewers to step into and interact with art in unprecedented ways.\n",
    "\n",
    "* AI-Generated Art: Artificial intelligence plays a significant role in art creation, with AI algorithms generating original artworks or collaborating with human artists to push the boundaries of creativity. This blurs the distinction between man-made and machine-made art.\n",
    "\n",
    "* Augmented Reality (AR) Street Art: Public spaces are transformed by augmented reality street art, where digital artworks overlay physical environments, offering dynamic and interactive experiences to passersby.\n",
    "\n",
    "* Environmental Art: With increasing awareness of environmental issues, artists use their work to raise awareness about climate change, biodiversity loss, and sustainability. Installations and sculptures made from recycled materials are commonplace.\n",
    "\n",
    "* Bioart and Genetic Engineering: Artists explore the intersection of art and biology, creating living sculptures and installations using genetically modified organisms. Bioart raises ethical questions about the manipulation of life for artistic purposes."
   ]
  },
  {
   "cell_type": "code",
   "execution_count": null,
   "id": "9497f465-8f8b-4297-9ee7-031463765fbb",
   "metadata": {},
   "outputs": [],
   "source": []
  }
 ],
 "metadata": {
  "citation-manager": {
   "items": {}
  },
  "kernelspec": {
   "display_name": "Python 3.11 (COMM4190)",
   "language": "python",
   "name": "comm4190"
  },
  "language_info": {
   "codemirror_mode": {
    "name": "ipython",
    "version": 3
   },
   "file_extension": ".py",
   "mimetype": "text/x-python",
   "name": "python",
   "nbconvert_exporter": "python",
   "pygments_lexer": "ipython3",
   "version": "3.11.7"
  }
 },
 "nbformat": 4,
 "nbformat_minor": 5
}
