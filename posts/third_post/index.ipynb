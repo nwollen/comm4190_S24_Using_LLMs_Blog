{
 "cells": [
  {
   "cell_type": "raw",
   "id": "a1d0762d-9de6-49b6-9575-23a0f15479f4",
   "metadata": {},
   "source": [
    "---\n",
    "title: \"Life in '84 (not 1984)\"\n",
    "description: \"What will life be like in 2084?\"\n",
    "author: \"Norabug\"\n",
    "date: \"2/2/2024\"\n",
    "categories:\n",
    "  - art\n",
    "  - power\n",
    "  - new\n",
    "---"
   ]
  },
  {
   "cell_type": "markdown",
   "id": "09101705-2887-4510-86e4-2e464cf98fd7",
   "metadata": {},
   "source": [
    "# 2084"
   ]
  },
  {
   "cell_type": "markdown",
   "id": "6ad972a7-922b-4922-9367-ed9cb711e631",
   "metadata": {},
   "source": [
    "![](art_ai.png)"
   ]
  },
  {
   "cell_type": "code",
   "execution_count": null,
   "id": "61847fb0-ccec-466f-966e-5d23c4ae757e",
   "metadata": {},
   "outputs": [],
   "source": []
  },
  {
   "cell_type": "code",
   "execution_count": null,
   "id": "aba07e81-1536-414a-8fe2-6e2588d81986",
   "metadata": {},
   "outputs": [],
   "source": []
  }
 ],
 "metadata": {
  "citation-manager": {
   "items": {}
  },
  "kernelspec": {
   "display_name": "Python 3.11 (COMM4190)",
   "language": "python",
   "name": "comm4190"
  },
  "language_info": {
   "codemirror_mode": {
    "name": "ipython",
    "version": 3
   },
   "file_extension": ".py",
   "mimetype": "text/x-python",
   "name": "python",
   "nbconvert_exporter": "python",
   "pygments_lexer": "ipython3",
   "version": "3.11.7"
  }
 },
 "nbformat": 4,
 "nbformat_minor": 5
}
