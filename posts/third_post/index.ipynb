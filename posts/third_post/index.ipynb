{
 "cells": [
  {
   "cell_type": "raw",
   "id": "a1d0762d-9de6-49b6-9575-23a0f15479f4",
   "metadata": {},
   "source": [
    "---\n",
    "title: \"Life in '84 (not 1984)\"\n",
    "description: \"What will life be like in 2084?\"\n",
    "author: \"Norabug\"\n",
    "date: \"2/2/2024\"\n",
    "categories:\n",
    "  - art\n",
    "  - power\n",
    "  - new\n",
    "---"
   ]
  },
  {
   "cell_type": "code",
   "execution_count": null,
   "id": "bb5ab49d-2698-44e5-8f4f-91215cf966ab",
   "metadata": {},
   "outputs": [],
   "source": []
  },
  {
   "cell_type": "markdown",
   "id": "09101705-2887-4510-86e4-2e464cf98fd7",
   "metadata": {},
   "source": [
    "# 2084"
   ]
  },
  {
   "cell_type": "markdown",
   "id": "c26cae4f-b236-4653-849d-cc78c44c34a4",
   "metadata": {},
   "source": [
    "# In a world where Artificial Intelligence is rapidly becoming more efficient, I wanted to see how I could interview AI to see what life will be like in 2084. "
   ]
  },
  {
   "cell_type": "markdown",
   "id": "6ad972a7-922b-4922-9367-ed9cb711e631",
   "metadata": {},
   "source": [
    "![](art_ai.png)"
   ]
  },
  {
   "cell_type": "markdown",
   "id": "1c570275-fd03-42af-b364-780758cb5596",
   "metadata": {},
   "source": [
    "## Art. How will AI change the world of art? Here, I prompted it to show me how creativity, art, and the world will be in 2084. Pretty scary, right? The power Artificial Intelligence will hold seems to be vast.\n",
    "  \n",
    "_HERE'S WHAT CHAT GBT PREDICTED ART WILL BE LIKE IN 2084._\n",
    "\n",
    "---"
   ]
  },
  {
   "cell_type": "markdown",
   "id": "e63d261c-dfe5-4c1a-b614-26580ba3a6b9",
   "metadata": {},
   "source": [
    "* Virtual Reality (VR) Dominance: By 2084, virtual reality has become the dominant medium for artistic expression. Artists create immersive experiences that transcend traditional boundaries of space and time, allowing viewers to step into and interact with art in unprecedented ways.\n",
    "\n",
    "* AI-Generated Art: Artificial intelligence plays a significant role in art creation, with AI algorithms generating original artworks or collaborating with human artists to push the boundaries of creativity. This blurs the distinction between man-made and machine-made art.\n",
    "\n",
    "* Augmented Reality (AR) Street Art: Public spaces are transformed by augmented reality street art, where digital artworks overlay physical environments, offering dynamic and interactive experiences to passersby.\n",
    "\n",
    "* Environmental Art: With increasing awareness of environmental issues, artists use their work to raise awareness about climate change, biodiversity loss, and sustainability. Installations and sculptures made from recycled materials are commonplace.\n",
    "\n",
    "* Bioart and Genetic Engineering: Artists explore the intersection of art and biology, creating living sculptures and installations using genetically modified organisms. Bioart raises ethical questions about the manipulation of life for artistic purposes."
   ]
  },
  {
   "cell_type": "code",
   "execution_count": null,
   "id": "1765e595-be27-4881-b508-10edd2995548",
   "metadata": {},
   "outputs": [],
   "source": []
  },
  {
   "cell_type": "markdown",
   "id": "a11a7bab-3371-4b31-8162-ed99f4e6639f",
   "metadata": {},
   "source": [
    "![](calmrobot.png)"
   ]
  },
  {
   "cell_type": "markdown",
   "id": "92956fa9-b13a-48fa-84e9-56751a6ac3c9",
   "metadata": {},
   "source": [
    "* Here, I prompted the LLM to create an image of a world where Artificial Intelligence is in more power. "
   ]
  },
  {
   "cell_type": "markdown",
   "id": "15b97a73-2480-4074-85b8-3ec07b68afa9",
   "metadata": {},
   "source": [
    "![](creepyrobot.png)"
   ]
  },
  {
   "cell_type": "markdown",
   "id": "d3811689-1de5-4a4b-845a-463601c6e2b7",
   "metadata": {},
   "source": [
    "* Here, I prompted a scarier image, where robots take over. "
   ]
  },
  {
   "cell_type": "markdown",
   "id": "1e8c7823-0df0-49b4-a136-98e4afd5c968",
   "metadata": {},
   "source": [
    "![](scaryhumans.png)"
   ]
  },
  {
   "cell_type": "markdown",
   "id": "7a0ebf84-1e01-496d-b033-b9214d374c67",
   "metadata": {},
   "source": [
    "* Here, I prompted the LLM to show what it would be like in 2084 where Artificial Intelligence takes over, and humans submit. A world where humans are controlled. "
   ]
  },
  {
   "cell_type": "markdown",
   "id": "f3ed5714-9108-4318-8b2c-aea264e3da57",
   "metadata": {},
   "source": [
    "## Power. In these images, I prompted power dynamics, and how robots and humans will interact in 2084. I asked \"How will power dynamics change in the year 2084 in regards to artificial intelligence? will privacy change? will robots hold power over humans? will humans remain in power?\" "
   ]
  },
  {
   "cell_type": "markdown",
   "id": "f563a57d-a6da-4927-bfd3-64d7854fa99b",
   "metadata": {},
   "source": [
    "_HERE'S HOW CHAT GBT PREDICTED POWER DYNAMICS IN 2084._\n",
    "\n",
    "---\n"
   ]
  },
  {
   "cell_type": "markdown",
   "id": "07c19291-1077-40ae-8b17-1ac6b9005bf4",
   "metadata": {},
   "source": [
    "* Shifts in Economic Power: AI and automation are likely to continue transforming industries, leading to changes in the distribution of wealth and economic power. Jobs may be disrupted or replaced by automation, potentially leading to socioeconomic disparities unless measures are taken to ensure equitable distribution of resources and opportunities.\n",
    "\n",
    "* Dependency on AI: As AI systems become more integrated into various aspects of daily life, there may be a growing dependency on these technologies. This could give those who control AI systems significant influence and power over others, especially if AI systems are involved in critical infrastructure or decision-making processes.\n",
    "\n",
    "* Privacy Concerns: The widespread use of AI-powered surveillance systems, data analytics, and smart devices may raise significant privacy concerns. Governments, corporations, and other entities may have unprecedented access to personal data, raising questions about surveillance, data security, and individual autonomy.\n",
    "\n",
    "* Ethical and Regulatory Frameworks: There will likely be ongoing debates and efforts to establish ethical guidelines and regulatory frameworks for AI development and deployment. This includes considerations of fairness, transparency, accountability, and the potential impacts of AI on society.\n",
    "\n",
    "* Human-Robot Interaction: While AI and robotics may become increasingly sophisticated, it's unlikely that robots will hold power over humans in the traditional sense. However, there may be complex interactions between humans and AI-powered systems, including issues of autonomy, agency, and control."
   ]
  },
  {
   "cell_type": "code",
   "execution_count": null,
   "id": "282d4b1e-d89c-4068-8530-a510f9cf535c",
   "metadata": {},
   "outputs": [],
   "source": []
  },
  {
   "cell_type": "code",
   "execution_count": null,
   "id": "54a285f5-268d-42a6-a64a-fc02c3a08e8e",
   "metadata": {},
   "outputs": [],
   "source": []
  },
  {
   "cell_type": "code",
   "execution_count": null,
   "id": "9e607bf7-6f78-45b1-93ab-823fa648cd73",
   "metadata": {},
   "outputs": [],
   "source": []
  }
 ],
 "metadata": {
  "citation-manager": {
   "items": {}
  },
  "kernelspec": {
   "display_name": "Python 3.11 (COMM4190)",
   "language": "python",
   "name": "comm4190"
  },
  "language_info": {
   "codemirror_mode": {
    "name": "ipython",
    "version": 3
   },
   "file_extension": ".py",
   "mimetype": "text/x-python",
   "name": "python",
   "nbconvert_exporter": "python",
   "pygments_lexer": "ipython3",
   "version": "3.11.7"
  }
 },
 "nbformat": 4,
 "nbformat_minor": 5
}
