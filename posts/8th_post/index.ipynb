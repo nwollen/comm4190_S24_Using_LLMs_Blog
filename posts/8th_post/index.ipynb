{
 "cells": [
  {
   "cell_type": "raw",
   "id": "b067c5d2-69e4-464b-b9c7-7f9b17448c96",
   "metadata": {},
   "source": [
    "---\n",
    "title: \"Exploring the Future of Fashion: The AI-Enhanced Met Gala\"\n",
    "description: \"Curious about the future of the Met Gala? Join me as I dive into the realm of AI-enhanced fashion.\"\n",
    "author: \"Norabug\"\n",
    "date: \"5/7/2024\"\n",
    "categories:\n",
    "---"
   ]
  },
  {
   "cell_type": "markdown",
   "id": "6666ecde-db99-4a6c-9dda-e9b001750c34",
   "metadata": {},
   "source": [
    "# Exploring the Future of the Met Gala with AI\n",
    "\n",
    "Today, I decided to look into the future of one of the most iconic events in fashion – the Met Gala. I brought ChatGPT along for the ride. Here's how it went down:\n",
    "\n",
    "---\n",
    "\n",
    "## Prompting ChatGPT: A Glimpse into Tomorrow's Fashion\n",
    "\n",
    "I sparked up a conversation with ChatGPT, asking, \"Tell me about a world where the Met Gala will utilize AI. How do you think AI will change future Met Galas?\"\n",
    "\n",
    "---\n",
    "\n",
    "## ChatGPT's Response: A Visionary Forecast\n",
    "\n",
    "ChatGPT painted a picture of a future Met Gala where technology and fashion converge in spectacular ways:\n",
    "\n",
    "\"The AI-Enhanced Met Gala: A Glimpse into the Future\"\n",
    "\n",
    "1. **AI-Designed Fashion:** \"Fashion designers collaborate with AI systems to create avant-garde, AI-generated garments that push the boundaries of creativity and aesthetics.\"\n",
    "\n",
    "2. **AI-Driven Guest Experience:** \"Attendees receive personalized invitations and curated event experiences tailored to their preferences, thanks to AI-powered recommendation systems.\"\n",
    "\n",
    "3. **Virtual Reality Runway:** \"The iconic Met Gala runway extends into the virtual realm, allowing global audiences to experience the event in immersive virtual reality (VR).\"\n",
    "\n",
    "---\n",
    "\n"
   ]
  },
  {
   "cell_type": "markdown",
   "id": "f226cf9e-9fa7-4fe4-92f2-15111905a370",
   "metadata": {},
   "source": [
    "## Fashion-Forward AI Images \n",
    "\n",
    "I wanted to know how future met gala looks would look, according to the LLM. Here are some AI generated looks! \n"
   ]
  },
  {
   "cell_type": "markdown",
   "id": "7bccd0e5-c5d9-4d10-9067-cef51746d5a6",
   "metadata": {},
   "source": [
    "![](mangala.png)"
   ]
  },
  {
   "cell_type": "markdown",
   "id": "1e314435-cb5c-49e8-9c34-03c8548a9713",
   "metadata": {},
   "source": [
    "![](aimetgala.png)"
   ]
  },
  {
   "cell_type": "markdown",
   "id": "adaa0229-eefc-422a-a499-864518037f21",
   "metadata": {},
   "source": [
    "## My personal human-created looks at the Met Gala this year..."
   ]
  },
  {
   "cell_type": "markdown",
   "id": "1332ecb3-133b-4759-a37d-ac2db0c6693e",
   "metadata": {},
   "source": [
    "![](kendall.png)"
   ]
  },
  {
   "cell_type": "markdown",
   "id": "6e8340a6-e6a4-4e23-b04f-278e28b0dbd4",
   "metadata": {},
   "source": [
    "![](sand.png)"
   ]
  },
  {
   "cell_type": "markdown",
   "id": "74a744c5-6a4f-4e26-8c6f-8ee134bf09b2",
   "metadata": {},
   "source": [
    "## Who did it better? AI fashion expertise or human deigner expertise? You decide!"
   ]
  },
  {
   "cell_type": "markdown",
   "id": "dad53d1c-cd2b-46af-857f-5b7a2c118888",
   "metadata": {},
   "source": [
    "In my opinion, AI will never outweigh human creativity. "
   ]
  },
  {
   "cell_type": "markdown",
   "id": "288ef102-c4c9-4195-a8d7-d375ed2d92eb",
   "metadata": {},
   "source": [
    "## Reflecting on the Conversation\n",
    "\n",
    "After digesting ChatGPT's insights, I couldn't help but marvel at the possibilities. The future of the Met Gala could be more innovative than ever before. Thanks, ChatGPT, for the fascinating glimpse into tomorrow's fashion landscape. However, I value human creation and think that human fashion deigners take the cake. Maybe there can be a mix, where fashion designers utilize AI to generate ideas. \n"
   ]
  },
  {
   "cell_type": "code",
   "execution_count": null,
   "id": "664ac417-3853-413d-a59d-b8f1f38c49ca",
   "metadata": {},
   "outputs": [],
   "source": []
  },
  {
   "cell_type": "code",
   "execution_count": null,
   "id": "870436ab-07f4-43d8-a658-79d0baf2af8f",
   "metadata": {},
   "outputs": [],
   "source": []
  }
 ],
 "metadata": {
  "citation-manager": {
   "items": {}
  },
  "kernelspec": {
   "display_name": "Python 3.11 (COMM4190)",
   "language": "python",
   "name": "comm4190"
  },
  "language_info": {
   "codemirror_mode": {
    "name": "ipython",
    "version": 3
   },
   "file_extension": ".py",
   "mimetype": "text/x-python",
   "name": "python",
   "nbconvert_exporter": "python",
   "pygments_lexer": "ipython3",
   "version": "3.11.7"
  }
 },
 "nbformat": 4,
 "nbformat_minor": 5
}
