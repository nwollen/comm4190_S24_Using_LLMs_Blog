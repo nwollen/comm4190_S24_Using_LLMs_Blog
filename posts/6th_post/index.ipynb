{
 "cells": [
  {
   "cell_type": "raw",
   "id": "d78c986d-f035-498e-a275-338224773614",
   "metadata": {},
   "source": [
    "---\n",
    "title: \"Who's the True Expert?\"\n",
    "description: \"In our class project, we wanted to see if we could tell who's really the expert in a topic versus just ChatGPT. Let's see how easy it is to figure out who the real expert is!\"\n",
    "author: \"Norabug\"\n",
    "date: \"4/30/2024\"\n",
    "categories:\n",
    "  - track\n",
    "  - basketball\n",
    "  - consulting\n",
    "---"
   ]
  },
  {
   "cell_type": "markdown",
   "id": "fee8da18-c68d-44d5-852d-764de1a74f03",
   "metadata": {},
   "source": [
    "# The game of basketball, the sport of track. "
   ]
  },
  {
   "cell_type": "markdown",
   "id": "f4aba1dc-6776-414d-9246-2b61b90920ff",
   "metadata": {},
   "source": [
    "![](trackbball.png)"
   ]
  },
  {
   "cell_type": "markdown",
   "id": "dac87c2a-9bc7-455c-bdc5-c85062e1e0b0",
   "metadata": {},
   "source": [
    "* This is an..."
   ]
  },
  {
   "cell_type": "code",
   "execution_count": null,
   "id": "4ef0def9-e86b-4588-b6b4-9cc95c830f31",
   "metadata": {},
   "outputs": [],
   "source": []
  }
 ],
 "metadata": {
  "citation-manager": {
   "items": {}
  },
  "kernelspec": {
   "display_name": "Python 3.11 (COMM4190)",
   "language": "python",
   "name": "comm4190"
  },
  "language_info": {
   "codemirror_mode": {
    "name": "ipython",
    "version": 3
   },
   "file_extension": ".py",
   "mimetype": "text/x-python",
   "name": "python",
   "nbconvert_exporter": "python",
   "pygments_lexer": "ipython3",
   "version": "3.11.7"
  }
 },
 "nbformat": 4,
 "nbformat_minor": 5
}
