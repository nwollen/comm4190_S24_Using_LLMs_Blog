{
 "cells": [
  {
   "cell_type": "markdown",
   "id": "d797b195-ccd6-4d6d-b033-c8990d4c2036",
   "metadata": {},
   "source": [
    "---\n",
    "title: \"The Future of Chicago\"\n",
    "description: \"What will Chicago look like in the future? Let's ask AI.\"\n",
    "author: \"Norabug\"\n",
    "date: \"2/25/2024\"\n",
    "\n",
    "---"
   ]
  },
  {
   "cell_type": "markdown",
   "id": "171c6d1d-5c00-4a1b-813b-7da0b635b517",
   "metadata": {},
   "source": [
    "## I've always had a fear of the future when it comes to climate change, the unknown, and how the next generations will carry our world. "
   ]
  },
  {
   "cell_type": "markdown",
   "id": "e801fb7a-356e-4694-b644-667c1f266fad",
   "metadata": {},
   "source": [
    "I am very fond of Chicago. I grew up in the city and spent my first two years at Loyola Chicago. I often wonder what my favorite city will look like decades from now, especially the years after I'm gone. What if I used Chat GBT and AI-Generated images to predict the future of my hometown, Chicago, IL? \n",
    "\n",
    "___"
   ]
  },
  {
   "cell_type": "markdown",
   "id": "53303e35-1510-490f-a68e-9ec74079766a",
   "metadata": {},
   "source": [
    "* First, I prompted Chat GBT to predict how the infrastructure, lakefront, buildings, skyline, landscape, etc. look in 20, 40, 60, 80, 100+ years. Here's what Chat GBT Said..."
   ]
  },
  {
   "cell_type": "markdown",
   "id": "3818e244-2e5a-4911-af30-f7807bc8faba",
   "metadata": {},
   "source": [
    "Here's a speculative glimpse into how the infrastructure, lakefront, buildings, skyline, and landscape of a city might evolve over the next century:\n",
    "\n",
    "20 years:\n",
    "\n",
    "The city's skyline continues to grow vertically as new skyscrapers emerge, reflecting ongoing urbanization and economic growth.\n",
    "Infrastructure improvements focus on sustainability and resilience, with investments in renewable energy, efficient public transportation, and climate adaptation measures.\n",
    "The lakefront undergoes revitalization efforts, with enhanced public spaces, recreational amenities, and green infrastructure projects to mitigate the effects of climate change and protect against rising water levels.\n",
    "40 years:\n",
    "\n",
    "Advances in architecture and construction technology lead to the development of innovative, eco-friendly buildings that blend seamlessly with the surrounding landscape.\n",
    "The skyline evolves into a mix of futuristic skyscrapers and historic landmarks, preserving the city's heritage while embracing modernity.\n",
    "Infrastructure upgrades prioritize smart city initiatives, with interconnected systems for transportation, energy, and communication enhancing efficiency and sustainability.\n",
    "60 years:\n",
    "\n",
    "The cityscape undergoes a transformation as urban planning initiatives prioritize green spaces, pedestrian-friendly neighborhoods, and mixed-use developments.\n",
    "Sustainable infrastructure becomes the norm, with renewable energy sources powering the city and green building practices reducing environmental impact.\n",
    "The lakefront becomes a focal point for recreation, culture, and community engagement, with vibrant waterfront districts and resilient infrastructure protecting against natural disasters.\n",
    "80 years:\n",
    "\n",
    "The skyline reaches new heights as super-tall skyscrapers redefine the city's silhouette, symbolizing its status as a global hub for innovation and commerce.\n",
    "Urban design principles prioritize inclusivity and accessibility, with equitable access to resources and amenities shaping the built environment.\n",
    "The lakefront remains a cherished asset, with ongoing efforts to preserve biodiversity, enhance water quality, and promote sustainable development along the waterfront.\n",
    "100+ years:\n",
    "\n",
    "The city's infrastructure reflects a legacy of sustainable planning and stewardship, with resilient systems capable of adapting to evolving environmental challenges.\n",
    "Architecture blends seamlessly with nature, with buildings designed to harmonize with the surrounding landscape and minimize ecological footprint.\n",
    "The lakefront remains a beloved destination for residents and visitors alike, serving as a model of sustainable waterfront development and environmental stewardship for generations to come.\n",
    "While these scenarios are speculative, they illustrate potential trajectories for the evolution of a city's infrastructure, skyline, and landscape over the next century. The actual outcome will depend on a myriad of factors, including technological advancements, policy decisions, and societal priorities.\n",
    "\n",
    "\n",
    "___\n",
    "\n",
    "\n"
   ]
  },
  {
   "cell_type": "markdown",
   "id": "f396f79d-8ec4-408c-a926-667037fc9c7f",
   "metadata": {},
   "source": [
    "* This was very optimistic, I wonder when/if Chat GBT thinks Chicago will eventually collapse. Here's what she said..."
   ]
  },
  {
   "cell_type": "markdown",
   "id": "c49227c1-983e-43e7-89a2-bdd7b013548c",
   "metadata": {},
   "source": [
    "Economic Resilience: Chicago has a diverse economy with strengths in finance, manufacturing, healthcare, and technology. However, if the city fails to adapt to shifts in global markets, technological advancements, or economic downturns, it could face challenges such as job losses, business closures, and declining tax revenue.\n",
    "\n",
    "Infrastructure Strain: Aging infrastructure, including roads, bridges, and public transportation systems, poses a significant risk to the city's functionality. Without adequate investment in maintenance and upgrades, Chicago could experience increased congestion, service disruptions, and decreased quality of life for residents.\n",
    "\n",
    "Social Inequality: Economic disparities and social inequities persist in Chicago, affecting access to education, healthcare, housing, and employment opportunities. Failure to address these issues could lead to social unrest, crime, and further polarization within the city.\n",
    "\n",
    "Environmental Hazards: Chicago is susceptible to environmental hazards such as extreme weather events, flooding, and pollution. Failure to mitigate and adapt to these risks could result in property damage, public health crises, and displacement of vulnerable communities.\n",
    "\n",
    "Political Dysfunction: Political gridlock, corruption, and lack of effective governance can hinder the city's ability to address pressing issues and implement long-term solutions. Without strong leadership and collaboration, Chicago may struggle to overcome its challenges and maintain public trust.\n",
    "\n",
    "While these scenarios outline potential risks, it's important to note that cities are resilient and have a capacity for innovation and adaptation. With proactive planning, investment, and community engagement, Chicago has the potential to overcome its challenges and thrive in the face of adversity."
   ]
  },
  {
   "cell_type": "markdown",
   "id": "c08b33d5-d3fb-4905-981e-7a0e290e2103",
   "metadata": {},
   "source": [
    "* That's less than ideal. What does an AI generated image have to say? Here's what I found the LLM to predict, giving no cues to bias on whether Chicago will collapse or thrive in the coming decades."
   ]
  },
  {
   "cell_type": "code",
   "execution_count": null,
   "id": "838b0ce6-b8fe-4bd2-a348-3e0cbd7596ea",
   "metadata": {},
   "outputs": [],
   "source": []
  }
 ],
 "metadata": {
  "citation-manager": {
   "items": {}
  },
  "kernelspec": {
   "display_name": "Python 3.11 (COMM4190)",
   "language": "python",
   "name": "comm4190"
  },
  "language_info": {
   "codemirror_mode": {
    "name": "ipython",
    "version": 3
   },
   "file_extension": ".py",
   "mimetype": "text/x-python",
   "name": "python",
   "nbconvert_exporter": "python",
   "pygments_lexer": "ipython3",
   "version": "3.11.7"
  }
 },
 "nbformat": 4,
 "nbformat_minor": 5
}
