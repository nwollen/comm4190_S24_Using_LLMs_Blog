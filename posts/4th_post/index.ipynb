{
 "cells": [
  {
   "cell_type": "markdown",
   "id": "d797b195-ccd6-4d6d-b033-c8990d4c2036",
   "metadata": {},
   "source": [
    "---\n",
    "title: \"The Future of Chicago\"\n",
    "description: \"What will Chicago look like in the future? Let's ask AI.\"\n",
    "author: \"Norabug\"\n",
    "date: \"2/25/2024\"\n",
    "categories:\n",
    "\n",
    "---"
   ]
  },
  {
   "cell_type": "markdown",
   "id": "171c6d1d-5c00-4a1b-813b-7da0b635b517",
   "metadata": {},
   "source": [
    "## I've always had a fear of the future when it comes to climate change, the unknown, and how the next generations will take over our world. "
   ]
  },
  {
   "cell_type": "markdown",
   "id": "e801fb7a-356e-4694-b644-667c1f266fad",
   "metadata": {},
   "source": [
    "I am very fond of Chicago. I grew up in the city and spent my first two years at Loyola Chicago. I often wonder what my favorite city will look like decades from now. What if I used Chat GBT and AI-Generated images to predict the future of my hometown, Chicago, IL? \n",
    "\n",
    "___"
   ]
  },
  {
   "cell_type": "markdown",
   "id": "53303e35-1510-490f-a68e-9ec74079766a",
   "metadata": {},
   "source": [
    "* First, I prompted Chat GBT "
   ]
  }
 ],
 "metadata": {
  "citation-manager": {
   "items": {}
  },
  "kernelspec": {
   "display_name": "Python 3.11 (COMM4190)",
   "language": "python",
   "name": "comm4190"
  },
  "language_info": {
   "codemirror_mode": {
    "name": "ipython",
    "version": 3
   },
   "file_extension": ".py",
   "mimetype": "text/x-python",
   "name": "python",
   "nbconvert_exporter": "python",
   "pygments_lexer": "ipython3",
   "version": "3.11.7"
  }
 },
 "nbformat": 4,
 "nbformat_minor": 5
}
