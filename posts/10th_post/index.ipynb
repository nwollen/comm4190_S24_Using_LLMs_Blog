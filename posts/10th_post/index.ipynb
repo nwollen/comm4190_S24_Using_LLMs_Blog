{
 "cells": [
  {
   "cell_type": "raw",
   "id": "a5fe4522-64ce-4995-885c-f0336a457184",
   "metadata": {},
   "source": [
    "---\n",
    "title: \"AI and Music Ethics\"\n",
    "description: \"Is it ethical \"\n",
    "author: \"Norabug\"\n",
    "date: \"3/10/2024\"\n",
    "categories:\n",
    "---"
   ]
  }
 ],
 "metadata": {
  "citation-manager": {
   "items": {}
  },
  "kernelspec": {
   "display_name": "Python 3.11 (COMM4190)",
   "language": "python",
   "name": "comm4190"
  },
  "language_info": {
   "codemirror_mode": {
    "name": "ipython",
    "version": 3
   },
   "file_extension": ".py",
   "mimetype": "text/x-python",
   "name": "python",
   "nbconvert_exporter": "python",
   "pygments_lexer": "ipython3",
   "version": "3.11.7"
  }
 },
 "nbformat": 4,
 "nbformat_minor": 5
}
