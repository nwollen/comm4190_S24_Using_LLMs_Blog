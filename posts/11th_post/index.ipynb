{
 "cells": [
  {
   "cell_type": "raw",
   "id": "4e8817ff-2561-40cb-a892-9cf3011aafaf",
   "metadata": {},
   "source": [
    "---\n",
    "title: \"Beyond Price\"\n",
    "description: \"I explore the cherished value of family bonds amidst prompts of material wealth using ChatGPT's responses.\"\n",
    "author: \"Norabug\"\n",
    "date: \"5/8/2024\"\n",
    "categories:\n",
    "---"
   ]
  },
  {
   "cell_type": "code",
   "execution_count": null,
   "id": "cf047acd-d791-4c25-b543-1c36ebfca920",
   "metadata": {},
   "outputs": [],
   "source": []
  }
 ],
 "metadata": {
  "citation-manager": {
   "items": {}
  },
  "kernelspec": {
   "display_name": "Python 3.11 (COMM4190)",
   "language": "python",
   "name": "comm4190"
  },
  "language_info": {
   "codemirror_mode": {
    "name": "ipython",
    "version": 3
   },
   "file_extension": ".py",
   "mimetype": "text/x-python",
   "name": "python",
   "nbconvert_exporter": "python",
   "pygments_lexer": "ipython3",
   "version": "3.11.7"
  }
 },
 "nbformat": 4,
 "nbformat_minor": 5
}
