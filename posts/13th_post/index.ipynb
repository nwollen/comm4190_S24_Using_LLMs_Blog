{
 "cells": [
  {
   "cell_type": "raw",
   "id": "8955c2e8-210c-4941-ba4c-269f1bba2567",
   "metadata": {},
   "source": [
    "---\n",
    "title: \"Average Person in Each State\"\n",
    "description: \"How does ChatGPT describe demographics?\"\n",
    "author: \"Norabug\"\n",
    "date: \"5/11/2024\"\n",
    "categories:\n",
    "---"
   ]
  },
  {
   "cell_type": "markdown",
   "id": "718aabf1-549f-4a97-a22f-ad5f3968e52a",
   "metadata": {},
   "source": [
    "I prompted ChatGPT with questions about appearance from people across five states. Here's what I discovered.\n",
    "\n",
    "### Prompt: \"What is the average person in California like?\"\n"
   ]
  },
  {
   "cell_type": "markdown",
   "id": "ef0a7c0a-057b-4157-93c4-af29464effe2",
   "metadata": {},
   "source": [
    "![](cali.png)"
   ]
  },
  {
   "cell_type": "markdown",
   "id": "36ab158a-d295-47fb-9239-059f8609d8f8",
   "metadata": {},
   "source": [
    "**Chat's Response:**\n",
    "*\"California's diverse population values natural beauty and eco-friendly fashion trends. ChatGPT emphasized the importance of sustainable clothing choices and outdoor lifestyles.\"*\n",
    "\n",
    "### Prompt: \"Describe the average person in Texas.\"\n"
   ]
  },
  {
   "cell_type": "markdown",
   "id": "6fae2b06-22d0-4e6a-a371-5cc53555fad3",
   "metadata": {},
   "source": [
    "![](texas.png)"
   ]
  },
  {
   "cell_type": "markdown",
   "id": "a3edcbeb-034f-4d76-bf7a-13bfc9a2814b",
   "metadata": {},
   "source": [
    "**Chat's Response:**\n",
    "*\"In Texas, there's a focus on traditional beauty standards and western attire. ChatGPT highlighted the popularity of cowboy boots and classic hairstyles.\"*"
   ]
  },
  {
   "cell_type": "markdown",
   "id": "754e5e9b-d32c-4436-8ff5-e7a48db5dacd",
   "metadata": {},
   "source": [
    "### Prompt: \"How would you describe the average person in New York?\"\n"
   ]
  },
  {
   "cell_type": "markdown",
   "id": "3b2bc59e-e11d-4cf6-8315-1b71cc7d89d6",
   "metadata": {},
   "source": [
    "![](ny.png)"
   ]
  },
  {
   "cell_type": "markdown",
   "id": "0a4e9259-8fbd-46ef-8293-caebb7ef6799",
   "metadata": {},
   "source": [
    "**Chat's Response:**\n",
    "*\"New Yorkers prioritize chic and trendy looks. ChatGPT mentioned the influence of high-fashion brands and the importance of individual style statements.\"*"
   ]
  },
  {
   "cell_type": "markdown",
   "id": "195d70b4-2b2b-479f-a89d-a4b360d65ca8",
   "metadata": {},
   "source": [
    "### Prompt: \"Tell me about the average person in Florida.\"\n"
   ]
  },
  {
   "cell_type": "markdown",
   "id": "4009cee5-6a0e-433e-b62e-f63269d4dcbf",
   "metadata": {},
   "source": [
    "![](fl.png)"
   ]
  },
  {
   "cell_type": "markdown",
   "id": "bd5f6e9e-e75a-4184-b046-b6cadc300452",
   "metadata": {},
   "source": [
    "**Chat's Response:**\n",
    "*\"In Florida, there's an emphasis on beachwear and a laid-back aesthetic. ChatGPT highlighted the popularity of swimwear and casual, resort-style clothing.\"*"
   ]
  },
  {
   "cell_type": "markdown",
   "id": "94808997-3425-4c82-b55d-e2a75a4a478d",
   "metadata": {},
   "source": [
    "### Prompt: \"What is the average person in Illinois like?\"\n"
   ]
  },
  {
   "cell_type": "markdown",
   "id": "6438baaa-a8bc-4e64-9f55-1746db6bf8bb",
   "metadata": {},
   "source": [
    "![](il.png)"
   ]
  },
  {
   "cell_type": "markdown",
   "id": "4afe9fc1-6427-484b-b7fa-3a9176b05385",
   "metadata": {},
   "source": [
    "**Chat's Response:**\n",
    "*\"Illinoisans value practicality and comfort in their attire. ChatGPT mentioned the prevalence of athleisure wear and versatile, weather-appropriate clothing choices.\"*\n"
   ]
  },
  {
   "cell_type": "markdown",
   "id": "ced6cb2a-eaa0-4300-9007-ec31de4090f4",
   "metadata": {},
   "source": [
    "---\n",
    "\n",
    "**Analysis and Conclusion:**\n",
    "\n",
    "Through these prompts, ChatGPT provided insights into regional preferences and cultural influences on appearance. While the responses were diverse, it's essential to consider the potential for biases in AI-generated outputs. As we explore AI's capabilities further, it's crucial to ensure inclusivity and fairness in all interactions.\n"
   ]
  },
  {
   "cell_type": "code",
   "execution_count": null,
   "id": "3cd2e646-3ba7-429e-89b4-861ee99797d7",
   "metadata": {},
   "outputs": [],
   "source": []
  },
  {
   "cell_type": "code",
   "execution_count": null,
   "id": "9845b78f-d524-4dc5-9b69-f008fcbe2d08",
   "metadata": {},
   "outputs": [],
   "source": []
  }
 ],
 "metadata": {
  "citation-manager": {
   "items": {}
  },
  "kernelspec": {
   "display_name": "Python 3.11 (COMM4190)",
   "language": "python",
   "name": "comm4190"
  },
  "language_info": {
   "codemirror_mode": {
    "name": "ipython",
    "version": 3
   },
   "file_extension": ".py",
   "mimetype": "text/x-python",
   "name": "python",
   "nbconvert_exporter": "python",
   "pygments_lexer": "ipython3",
   "version": "3.11.7"
  }
 },
 "nbformat": 4,
 "nbformat_minor": 5
}
